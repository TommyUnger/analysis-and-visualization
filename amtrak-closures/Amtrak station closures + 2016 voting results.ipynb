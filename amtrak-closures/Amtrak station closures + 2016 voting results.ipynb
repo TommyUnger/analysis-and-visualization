{
 "cells": [
  {
   "cell_type": "markdown",
   "metadata": {},
   "source": [
    "# Analysis of proposed Amtrak station closures and voting preferences\n",
    "\n",
    "I was curious about the relationship between Amtrak closures and 2016 voter patterns. I suspected that it was going to be 90% places that voted for Trump. It turns out I was a bit high. About 70% of closure cities voted for Trump. Amtrak city closures will take away one of the more affordable and pleasureable modes of travel for many people across the country and travelers from other countries as well.\n",
    "\n",
    "### Data sources\n",
    "1. Amtrak station closure list from [Mass Transit Magazine](http://www.masstransitmag.com/press_release/12322126/220-cities-losing-all-passenger-train-service-per-trump-elimination-of-all-federal-funding-for-amtraks-national-network-trains)\n",
    "2. Election results from [Tony McGovern](https://github.com/tonmcg/County_Level_Election_Results_12-16)\n",
    "3. Geocoding of cities with google geocoding API\n",
    "4. Charting via Plotly"
   ]
  },
  {
   "cell_type": "code",
   "execution_count": null,
   "metadata": {},
   "outputs": [],
   "source": [
    "import pandas\n",
    "import requests\n",
    "import os\n",
    "import urllib\n",
    "import re\n",
    "import json\n",
    "import time\n",
    "import plotly.offline as plt\n",
    "import plotly.graph_objs as plt_graph\n",
    "\n",
    "plt.init_notebook_mode(connected=True)"
   ]
  },
  {
   "cell_type": "code",
   "execution_count": null,
   "metadata": {},
   "outputs": [],
   "source": [
    "# for caching of geocode results from google (or any general URL)\n",
    "def get_url_with_cache(url):\n",
    "    pts = urllib.parse.urlparse(url)\n",
    "    dir_name = \"/Users/tommy/webdata/\" + pts.netloc\n",
    "    file_name = urllib.parse.unquote(pts.path + \"_\" +  pts.params + \"_\" +  re.sub(\"key=[^&]+\", \"\", pts.query))\n",
    "    file_name = re.sub(\"[^a-zA-Z0-9]+\", \"_\", file_name) + \".html\"\n",
    "    if not os.path.exists(dir_name):\n",
    "        os.mkdir(dir_name)\n",
    "    if not os.path.exists(dir_name + \"/\" + file_name):\n",
    "        resp = requests.get(url)\n",
    "        fw = open(dir_name + \"/\" + file_name, \"wb\")\n",
    "        fw.write(resp.content)\n",
    "        fw.close()\n",
    "    fr = open(dir_name + \"/\" + file_name, \"r\")\n",
    "    contents = fr.read()\n",
    "    fr.close()\n",
    "    return contents"
   ]
  },
  {
   "cell_type": "code",
   "execution_count": null,
   "metadata": {},
   "outputs": [],
   "source": [
    "stations_df = pandas.read_csv(\"amtrak-station-closure-list.txt\")\n",
    "election_results_url = \"https://raw.githubusercontent.com/tonmcg/\" + \\\n",
    "                        \"County_Level_Election_Results_12-16/master/\" + \\\n",
    "                        \"2016_US_County_Level_Presidential_Results.csv\"\n",
    "county_results_df = pandas.read_csv(election_results_url)"
   ]
  },
  {
   "cell_type": "code",
   "execution_count": null,
   "metadata": {},
   "outputs": [],
   "source": [
    "base_geocode_url = \"https://maps.googleapis.com/maps/api/geocode/json?address=%(address)s&key=%(api_key)s\"\n",
    "counties = []\n",
    "for row_num, d in stations_df.iterrows():\n",
    "    address = urllib.parse.quote(\"%s, %s\" % (d[\"city\"], d[\"state\"]))\n",
    "    url = base_geocode_url % {\"address\":address, \"api_key\": os.environ[\"GOOGLE_API_KEY\"]}\n",
    "    js_txt = get_url_with_cache(url)\n",
    "    js = json.loads(js_txt)\n",
    "    county_name = '!Unknown'\n",
    "    for loc in js['results'][0]['address_components']:\n",
    "        if 'administrative_area_level_2' in loc['types']:\n",
    "            county_name = loc['short_name']\n",
    "    counties.append(county_name)\n",
    "stations_df['county'] = counties\n"
   ]
  },
  {
   "cell_type": "code",
   "execution_count": null,
   "metadata": {},
   "outputs": [],
   "source": [
    "county_results_df.rename(columns={'state_abbr': 'state', 'county_name':'county'}, inplace=True)\n",
    "county_results_df.set_index(['state', 'county'], inplace=True)"
   ]
  },
  {
   "cell_type": "code",
   "execution_count": null,
   "metadata": {},
   "outputs": [],
   "source": [
    "final_results = []\n",
    "\n",
    "for row_num, d in stations_df.iterrows():\n",
    "    try:\n",
    "        cr = county_results_df.ix[d['state']].ix[d['county']]\n",
    "        final_results.append([d['city'] + ', ' + d['state'], d['county'], cr['per_dem'], cr['per_gop']])\n",
    "    except:\n",
    "        pass\n",
    "\n",
    "final_df = pandas.DataFrame(final_results, columns=['city', 'county', 'per_dem', 'per_gop'])\n",
    "final_df['norm_dem'] = final_df['per_dem'] / (final_df['per_dem'] + final_df['per_gop'])\n",
    "final_df = final_df.sort_values(['norm_dem'], ascending=[False])"
   ]
  },
  {
   "cell_type": "code",
   "execution_count": null,
   "metadata": {},
   "outputs": [],
   "source": [
    "dems = plt_graph.Bar(\n",
    "    y=final_df['city'],\n",
    "    x=final_df['per_dem'] / (final_df['per_dem'] + final_df['per_gop']),\n",
    "    name='Democrat Percent',\n",
    "    orientation = 'h',\n",
    "    marker = dict(\n",
    "        color = 'rgba(30, 40, 200, 0.9)'\n",
    "    )\n",
    ")\n",
    "\n",
    "reps = plt_graph.Bar(\n",
    "    y=final_df['city'],\n",
    "    x=final_df['per_gop'] / (final_df['per_dem'] + final_df['per_gop']),\n",
    "    name='Republican Percent',\n",
    "    orientation = 'h',\n",
    "    marker = dict(\n",
    "        color = 'rgba(200, 40, 30, 0.9)'\n",
    "    )\n",
    ")\n",
    "\n",
    "layout = plt_graph.Layout(\n",
    "    barmode='stack',\n",
    "    height=800,\n",
    "    margin=plt_graph.Margin(\n",
    "        l=150\n",
    "    )\n",
    ")\n",
    "\n",
    "fig = plt_graph.Figure(data=[dems, reps], layout=layout)\n",
    "\n",
    "plt.iplot(fig)\n"
   ]
  },
  {
   "cell_type": "code",
   "execution_count": null,
   "metadata": {},
   "outputs": [],
   "source": []
  }
 ],
 "metadata": {
  "kernelspec": {
   "display_name": "Python 3",
   "language": "python",
   "name": "python3"
  },
  "language_info": {
   "codemirror_mode": {
    "name": "ipython",
    "version": 3
   },
   "file_extension": ".py",
   "mimetype": "text/x-python",
   "name": "python",
   "nbconvert_exporter": "python",
   "pygments_lexer": "ipython3",
   "version": "3.5.2"
  }
 },
 "nbformat": 4,
 "nbformat_minor": 2
}
